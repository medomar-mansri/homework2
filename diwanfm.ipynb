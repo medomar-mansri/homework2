{
  "nbformat": 4,
  "nbformat_minor": 0,
  "metadata": {
    "colab": {
      "provenance": []
    },
    "kernelspec": {
      "name": "python3",
      "display_name": "Python 3"
    },
    "language_info": {
      "name": "python"
    }
  },
  "cells": [
    {
      "cell_type": "code",
      "execution_count": null,
      "metadata": {
        "colab": {
          "base_uri": "https://localhost:8080/"
        },
        "id": "tFalHAPB6vy_",
        "outputId": "dc67a135-7f4c-414a-ff7b-98bc283c85f8"
      },
      "outputs": [
        {
          "output_type": "stream",
          "name": "stdout",
          "text": [
            "Collecting scrapy\n",
            "  Downloading Scrapy-2.11.1-py2.py3-none-any.whl (287 kB)\n",
            "\u001b[2K     \u001b[90m━━━━━━━━━━━━━━━━━━━━━━━━━━━━━━━━━━━━━━━━\u001b[0m \u001b[32m287.8/287.8 kB\u001b[0m \u001b[31m2.5 MB/s\u001b[0m eta \u001b[36m0:00:00\u001b[0m\n",
            "\u001b[?25hCollecting Twisted>=18.9.0 (from scrapy)\n",
            "  Downloading twisted-23.10.0-py3-none-any.whl (3.2 MB)\n",
            "\u001b[2K     \u001b[90m━━━━━━━━━━━━━━━━━━━━━━━━━━━━━━━━━━━━━━━━\u001b[0m \u001b[32m3.2/3.2 MB\u001b[0m \u001b[31m24.6 MB/s\u001b[0m eta \u001b[36m0:00:00\u001b[0m\n",
            "\u001b[?25hRequirement already satisfied: cryptography>=36.0.0 in /usr/local/lib/python3.10/dist-packages (from scrapy) (42.0.2)\n",
            "Collecting cssselect>=0.9.1 (from scrapy)\n",
            "  Downloading cssselect-1.2.0-py2.py3-none-any.whl (18 kB)\n",
            "Collecting itemloaders>=1.0.1 (from scrapy)\n",
            "  Downloading itemloaders-1.1.0-py3-none-any.whl (11 kB)\n",
            "Collecting parsel>=1.5.0 (from scrapy)\n",
            "  Downloading parsel-1.8.1-py2.py3-none-any.whl (17 kB)\n",
            "Requirement already satisfied: pyOpenSSL>=21.0.0 in /usr/local/lib/python3.10/dist-packages (from scrapy) (24.0.0)\n",
            "Collecting queuelib>=1.4.2 (from scrapy)\n",
            "  Downloading queuelib-1.6.2-py2.py3-none-any.whl (13 kB)\n",
            "Collecting service-identity>=18.1.0 (from scrapy)\n",
            "  Downloading service_identity-24.1.0-py3-none-any.whl (12 kB)\n",
            "Collecting w3lib>=1.17.0 (from scrapy)\n",
            "  Downloading w3lib-2.1.2-py3-none-any.whl (21 kB)\n",
            "Collecting zope.interface>=5.1.0 (from scrapy)\n",
            "  Downloading zope.interface-6.2-cp310-cp310-manylinux_2_5_x86_64.manylinux1_x86_64.manylinux_2_17_x86_64.manylinux2014_x86_64.whl (247 kB)\n",
            "\u001b[2K     \u001b[90m━━━━━━━━━━━━━━━━━━━━━━━━━━━━━━━━━━━━━━━━\u001b[0m \u001b[32m247.3/247.3 kB\u001b[0m \u001b[31m25.7 MB/s\u001b[0m eta \u001b[36m0:00:00\u001b[0m\n",
            "\u001b[?25hCollecting protego>=0.1.15 (from scrapy)\n",
            "  Downloading Protego-0.3.0-py2.py3-none-any.whl (8.5 kB)\n",
            "Collecting itemadapter>=0.1.0 (from scrapy)\n",
            "  Downloading itemadapter-0.8.0-py3-none-any.whl (11 kB)\n",
            "Requirement already satisfied: setuptools in /usr/local/lib/python3.10/dist-packages (from scrapy) (67.7.2)\n",
            "Requirement already satisfied: packaging in /usr/local/lib/python3.10/dist-packages (from scrapy) (23.2)\n",
            "Collecting tldextract (from scrapy)\n",
            "  Downloading tldextract-5.1.1-py3-none-any.whl (97 kB)\n",
            "\u001b[2K     \u001b[90m━━━━━━━━━━━━━━━━━━━━━━━━━━━━━━━━━━━━━━━━\u001b[0m \u001b[32m97.7/97.7 kB\u001b[0m \u001b[31m10.7 MB/s\u001b[0m eta \u001b[36m0:00:00\u001b[0m\n",
            "\u001b[?25hRequirement already satisfied: lxml>=4.4.1 in /usr/local/lib/python3.10/dist-packages (from scrapy) (4.9.4)\n",
            "Collecting PyDispatcher>=2.0.5 (from scrapy)\n",
            "  Downloading PyDispatcher-2.0.7-py3-none-any.whl (12 kB)\n",
            "Requirement already satisfied: cffi>=1.12 in /usr/local/lib/python3.10/dist-packages (from cryptography>=36.0.0->scrapy) (1.16.0)\n",
            "Collecting jmespath>=0.9.5 (from itemloaders>=1.0.1->scrapy)\n",
            "  Downloading jmespath-1.0.1-py3-none-any.whl (20 kB)\n",
            "Requirement already satisfied: attrs>=19.1.0 in /usr/local/lib/python3.10/dist-packages (from service-identity>=18.1.0->scrapy) (23.2.0)\n",
            "Requirement already satisfied: pyasn1 in /usr/local/lib/python3.10/dist-packages (from service-identity>=18.1.0->scrapy) (0.5.1)\n",
            "Requirement already satisfied: pyasn1-modules in /usr/local/lib/python3.10/dist-packages (from service-identity>=18.1.0->scrapy) (0.3.0)\n",
            "Collecting automat>=0.8.0 (from Twisted>=18.9.0->scrapy)\n",
            "  Downloading Automat-22.10.0-py2.py3-none-any.whl (26 kB)\n",
            "Collecting constantly>=15.1 (from Twisted>=18.9.0->scrapy)\n",
            "  Downloading constantly-23.10.4-py3-none-any.whl (13 kB)\n",
            "Collecting hyperlink>=17.1.1 (from Twisted>=18.9.0->scrapy)\n",
            "  Downloading hyperlink-21.0.0-py2.py3-none-any.whl (74 kB)\n",
            "\u001b[2K     \u001b[90m━━━━━━━━━━━━━━━━━━━━━━━━━━━━━━━━━━━━━━━━\u001b[0m \u001b[32m74.6/74.6 kB\u001b[0m \u001b[31m8.2 MB/s\u001b[0m eta \u001b[36m0:00:00\u001b[0m\n",
            "\u001b[?25hCollecting incremental>=22.10.0 (from Twisted>=18.9.0->scrapy)\n",
            "  Downloading incremental-22.10.0-py2.py3-none-any.whl (16 kB)\n",
            "Requirement already satisfied: typing-extensions>=4.2.0 in /usr/local/lib/python3.10/dist-packages (from Twisted>=18.9.0->scrapy) (4.9.0)\n",
            "Requirement already satisfied: idna in /usr/local/lib/python3.10/dist-packages (from tldextract->scrapy) (3.6)\n",
            "Requirement already satisfied: requests>=2.1.0 in /usr/local/lib/python3.10/dist-packages (from tldextract->scrapy) (2.31.0)\n",
            "Collecting requests-file>=1.4 (from tldextract->scrapy)\n",
            "  Downloading requests_file-2.0.0-py2.py3-none-any.whl (4.2 kB)\n",
            "Requirement already satisfied: filelock>=3.0.8 in /usr/local/lib/python3.10/dist-packages (from tldextract->scrapy) (3.13.1)\n",
            "Requirement already satisfied: six in /usr/local/lib/python3.10/dist-packages (from automat>=0.8.0->Twisted>=18.9.0->scrapy) (1.16.0)\n",
            "Requirement already satisfied: pycparser in /usr/local/lib/python3.10/dist-packages (from cffi>=1.12->cryptography>=36.0.0->scrapy) (2.21)\n",
            "Requirement already satisfied: charset-normalizer<4,>=2 in /usr/local/lib/python3.10/dist-packages (from requests>=2.1.0->tldextract->scrapy) (3.3.2)\n",
            "Requirement already satisfied: urllib3<3,>=1.21.1 in /usr/local/lib/python3.10/dist-packages (from requests>=2.1.0->tldextract->scrapy) (2.0.7)\n",
            "Requirement already satisfied: certifi>=2017.4.17 in /usr/local/lib/python3.10/dist-packages (from requests>=2.1.0->tldextract->scrapy) (2024.2.2)\n",
            "Installing collected packages: PyDispatcher, incremental, zope.interface, w3lib, queuelib, protego, jmespath, itemadapter, hyperlink, cssselect, constantly, automat, Twisted, requests-file, parsel, tldextract, service-identity, itemloaders, scrapy\n",
            "Successfully installed PyDispatcher-2.0.7 Twisted-23.10.0 automat-22.10.0 constantly-23.10.4 cssselect-1.2.0 hyperlink-21.0.0 incremental-22.10.0 itemadapter-0.8.0 itemloaders-1.1.0 jmespath-1.0.1 parsel-1.8.1 protego-0.3.0 queuelib-1.6.2 requests-file-2.0.0 scrapy-2.11.1 service-identity-24.1.0 tldextract-5.1.1 w3lib-2.1.2 zope.interface-6.2\n"
          ]
        }
      ],
      "source": [
        "!pip install scrapy"
      ]
    },
    {
      "cell_type": "code",
      "source": [
        "!scrapy startproject diwan"
      ],
      "metadata": {
        "colab": {
          "base_uri": "https://localhost:8080/"
        },
        "id": "2FyQ63wC6y_1",
        "outputId": "3aaa9133-3bd7-4d4a-dbab-5259b44bd016"
      },
      "execution_count": null,
      "outputs": [
        {
          "output_type": "stream",
          "name": "stdout",
          "text": [
            "New Scrapy project 'diwan', using template directory '/usr/local/lib/python3.10/dist-packages/scrapy/templates/project', created in:\n",
            "    /content/diwan\n",
            "\n",
            "You can start your first spider with:\n",
            "    cd diwan\n",
            "    scrapy genspider example example.com\n"
          ]
        }
      ]
    },
    {
      "cell_type": "code",
      "source": [
        "%cd /content/diwan/diwan/spiders"
      ],
      "metadata": {
        "colab": {
          "base_uri": "https://localhost:8080/"
        },
        "id": "EKFE9Pm561r0",
        "outputId": "c3016e39-06cf-4ed9-fdd1-097ac3eff67d"
      },
      "execution_count": null,
      "outputs": [
        {
          "output_type": "stream",
          "name": "stdout",
          "text": [
            "/content/diwan/diwan/spiders\n"
          ]
        }
      ]
    },
    {
      "cell_type": "code",
      "source": [
        "!scrapy genspider diwnnews https://diwanfm.net/news"
      ],
      "metadata": {
        "colab": {
          "base_uri": "https://localhost:8080/"
        },
        "id": "GggGbnr7620L",
        "outputId": "eebb254a-9175-4d2c-e2bf-2b67f0b2f979"
      },
      "execution_count": null,
      "outputs": [
        {
          "output_type": "stream",
          "name": "stdout",
          "text": [
            "Created spider 'diwnnews' using template 'basic' in module:\n",
            "  diwan.spiders.diwnnews\n"
          ]
        }
      ]
    },
    {
      "cell_type": "code",
      "source": [
        "%%writefile diwnnews.py\n",
        "import scrapy\n",
        "class DiwnnewsSpider(scrapy.Spider):\n",
        "    name = \"diwnnews\"\n",
        "    allowed_domains = [\"diwanfm.net\"]\n",
        "    start_urls = [\"https://diwanfm.net/news\"]\n",
        "\n",
        "    def parse(self, response):\n",
        "      news=response.css('div.col-md-4')\n",
        "      for new in news:\n",
        "        yield{\n",
        "                'title' : new.css('h4 a::text').get(),\n",
        "                'categorie' :new.css('a div.tag::text').get(),\n",
        "                'description' :new.css('div.col-md-12 p::text').get(),\n",
        "                'time' :new.css('div.col-md-12 div.timer span::text').get(),\n",
        "                'url' : new.css('h4 a').attrib['href'],\n",
        "                }"
      ],
      "metadata": {
        "colab": {
          "base_uri": "https://localhost:8080/"
        },
        "id": "aek3qifq64Dg",
        "outputId": "c1014c7e-28f8-4153-c0ef-c5e105363b6e"
      },
      "execution_count": null,
      "outputs": [
        {
          "output_type": "stream",
          "name": "stdout",
          "text": [
            "Overwriting diwnnews.py\n"
          ]
        }
      ]
    },
    {
      "cell_type": "code",
      "source": [
        "!scrapy crawl diwnnews -o data151.json"
      ],
      "metadata": {
        "colab": {
          "base_uri": "https://localhost:8080/"
        },
        "id": "jW5z7lWZ65Tz",
        "outputId": "a1164711-7a97-4d64-dcaa-a2177765e333"
      },
      "execution_count": null,
      "outputs": [
        {
          "output_type": "stream",
          "name": "stdout",
          "text": [
            "2024-02-20 19:37:41 [scrapy.utils.log] INFO: Scrapy 2.11.1 started (bot: diwan)\n",
            "2024-02-20 19:37:41 [scrapy.utils.log] INFO: Versions: lxml 4.9.4.0, libxml2 2.10.3, cssselect 1.2.0, parsel 1.8.1, w3lib 2.1.2, Twisted 23.10.0, Python 3.10.12 (main, Nov 20 2023, 15:14:05) [GCC 11.4.0], pyOpenSSL 24.0.0 (OpenSSL 3.2.1 30 Jan 2024), cryptography 42.0.2, Platform Linux-6.1.58+-x86_64-with-glibc2.35\n",
            "2024-02-20 19:37:41 [scrapy.addons] INFO: Enabled addons:\n",
            "[]\n",
            "2024-02-20 19:37:41 [asyncio] DEBUG: Using selector: EpollSelector\n",
            "2024-02-20 19:37:41 [scrapy.utils.log] DEBUG: Using reactor: twisted.internet.asyncioreactor.AsyncioSelectorReactor\n",
            "2024-02-20 19:37:41 [scrapy.utils.log] DEBUG: Using asyncio event loop: asyncio.unix_events._UnixSelectorEventLoop\n",
            "2024-02-20 19:37:41 [scrapy.extensions.telnet] INFO: Telnet Password: 1ae48d2def27a0aa\n",
            "2024-02-20 19:37:41 [scrapy.middleware] INFO: Enabled extensions:\n",
            "['scrapy.extensions.corestats.CoreStats',\n",
            " 'scrapy.extensions.telnet.TelnetConsole',\n",
            " 'scrapy.extensions.memusage.MemoryUsage',\n",
            " 'scrapy.extensions.feedexport.FeedExporter',\n",
            " 'scrapy.extensions.logstats.LogStats']\n",
            "2024-02-20 19:37:41 [scrapy.crawler] INFO: Overridden settings:\n",
            "{'BOT_NAME': 'diwan',\n",
            " 'FEED_EXPORT_ENCODING': 'utf-8',\n",
            " 'NEWSPIDER_MODULE': 'diwan.spiders',\n",
            " 'REQUEST_FINGERPRINTER_IMPLEMENTATION': '2.7',\n",
            " 'ROBOTSTXT_OBEY': True,\n",
            " 'SPIDER_MODULES': ['diwan.spiders'],\n",
            " 'TWISTED_REACTOR': 'twisted.internet.asyncioreactor.AsyncioSelectorReactor'}\n",
            "2024-02-20 19:37:42 [scrapy.middleware] INFO: Enabled downloader middlewares:\n",
            "['scrapy.downloadermiddlewares.robotstxt.RobotsTxtMiddleware',\n",
            " 'scrapy.downloadermiddlewares.httpauth.HttpAuthMiddleware',\n",
            " 'scrapy.downloadermiddlewares.downloadtimeout.DownloadTimeoutMiddleware',\n",
            " 'scrapy.downloadermiddlewares.defaultheaders.DefaultHeadersMiddleware',\n",
            " 'scrapy.downloadermiddlewares.useragent.UserAgentMiddleware',\n",
            " 'scrapy.downloadermiddlewares.retry.RetryMiddleware',\n",
            " 'scrapy.downloadermiddlewares.redirect.MetaRefreshMiddleware',\n",
            " 'scrapy.downloadermiddlewares.httpcompression.HttpCompressionMiddleware',\n",
            " 'scrapy.downloadermiddlewares.redirect.RedirectMiddleware',\n",
            " 'scrapy.downloadermiddlewares.cookies.CookiesMiddleware',\n",
            " 'scrapy.downloadermiddlewares.httpproxy.HttpProxyMiddleware',\n",
            " 'scrapy.downloadermiddlewares.stats.DownloaderStats']\n",
            "2024-02-20 19:37:42 [scrapy.middleware] INFO: Enabled spider middlewares:\n",
            "['scrapy.spidermiddlewares.httperror.HttpErrorMiddleware',\n",
            " 'scrapy.spidermiddlewares.offsite.OffsiteMiddleware',\n",
            " 'scrapy.spidermiddlewares.referer.RefererMiddleware',\n",
            " 'scrapy.spidermiddlewares.urllength.UrlLengthMiddleware',\n",
            " 'scrapy.spidermiddlewares.depth.DepthMiddleware']\n",
            "2024-02-20 19:37:42 [scrapy.middleware] INFO: Enabled item pipelines:\n",
            "[]\n",
            "2024-02-20 19:37:42 [scrapy.core.engine] INFO: Spider opened\n",
            "2024-02-20 19:37:42 [scrapy.extensions.logstats] INFO: Crawled 0 pages (at 0 pages/min), scraped 0 items (at 0 items/min)\n",
            "2024-02-20 19:37:42 [scrapy.extensions.telnet] INFO: Telnet console listening on 127.0.0.1:6023\n",
            "2024-02-20 19:37:42 [scrapy.core.engine] DEBUG: Crawled (200) <GET https://diwanfm.net/robots.txt> (referer: None)\n",
            "2024-02-20 19:37:42 [scrapy.core.engine] DEBUG: Crawled (200) <GET https://diwanfm.net/news> (referer: None)\n",
            "2024-02-20 19:37:42 [scrapy.core.scraper] DEBUG: Scraped from <200 https://diwanfm.net/news>\n",
            "{'title': None, 'categorie': None, 'description': None, 'time': None}\n",
            "2024-02-20 19:37:42 [scrapy.core.scraper] DEBUG: Scraped from <200 https://diwanfm.net/news>\n",
            "{'title': None, 'categorie': None, 'description': None, 'time': None}\n",
            "2024-02-20 19:37:42 [scrapy.core.scraper] DEBUG: Scraped from <200 https://diwanfm.net/news>\n",
            "{'title': None, 'categorie': None, 'description': None, 'time': None}\n",
            "2024-02-20 19:37:43 [scrapy.core.scraper] DEBUG: Scraped from <200 https://diwanfm.net/news>\n",
            "{'title': None, 'categorie': None, 'description': None, 'time': None}\n",
            "2024-02-20 19:37:43 [scrapy.core.scraper] DEBUG: Scraped from <200 https://diwanfm.net/news>\n",
            "{'title': None, 'categorie': None, 'description': None, 'time': None}\n",
            "2024-02-20 19:37:43 [scrapy.core.scraper] DEBUG: Scraped from <200 https://diwanfm.net/news>\n",
            "{'title': None, 'categorie': None, 'description': None, 'time': None}\n",
            "2024-02-20 19:37:43 [scrapy.core.scraper] DEBUG: Scraped from <200 https://diwanfm.net/news>\n",
            "{'title': None, 'categorie': None, 'description': None, 'time': None}\n",
            "2024-02-20 19:37:43 [scrapy.core.scraper] DEBUG: Scraped from <200 https://diwanfm.net/news>\n",
            "{'title': None, 'categorie': None, 'description': None, 'time': None}\n",
            "2024-02-20 19:37:43 [scrapy.core.scraper] DEBUG: Scraped from <200 https://diwanfm.net/news>\n",
            "{'title': None, 'categorie': None, 'description': None, 'time': None}\n",
            "2024-02-20 19:37:43 [scrapy.core.scraper] DEBUG: Scraped from <200 https://diwanfm.net/news>\n",
            "{'title': None, 'categorie': None, 'description': None, 'time': None}\n",
            "2024-02-20 19:37:43 [scrapy.core.scraper] DEBUG: Scraped from <200 https://diwanfm.net/news>\n",
            "{'title': None, 'categorie': None, 'description': None, 'time': None}\n",
            "2024-02-20 19:37:43 [scrapy.core.scraper] DEBUG: Scraped from <200 https://diwanfm.net/news>\n",
            "{'title': 'رئيسة البنك الاوروبي لإعادة الاعمار والتنمية : أولويتنا في تونس دعم القطاع الخاص والانتقال الطاقي', 'categorie': '\\n                        اقتصاد\\n                    ', 'description': '\\n                قالت رئيسة البنك الاوروبي لإعادة الاعمار والتنمية اوديل رينو باسو عقب لقائها رئيس الحكومة أحمد الحشاني اليوم الثلاثاء ان أولوية البنك في تونس  تتمثل في دعم القطاع الخاص و برنامج الانتقال الطاقي و تنمية الطاقات المتجددة .\\n            ', 'time': 'منذ'}\n",
            "2024-02-20 19:37:43 [scrapy.core.scraper] DEBUG: Scraped from <200 https://diwanfm.net/news>\n",
            "{'title': 'انتخابات جامعة كرة القدم: قبول قائمة تقية ورفض قائمة اللطيف', 'categorie': '\\n                        رياضة\\n                    ', 'description': '\\n                أصدرت اللجنة المستقلة للإنتخابات لجامعة التونسية لكرة القدم قرارها النهائي بخصوص القوائم المترشحة\\n            ', 'time': 'منذ'}\n",
            "2024-02-20 19:37:43 [scrapy.core.scraper] DEBUG: Scraped from <200 https://diwanfm.net/news>\n",
            "{'title': 'تعزيز الشراكة الثنائية في لقاء رئيس الحكومة برئيسة البنك الاوروبي لاعادة الاعمار والتنمية', 'categorie': '\\n                        وطنية\\n                    ', 'description': '\\n                استقبل رئيس الحكومة  أحمد الحشّاني صباح اليوم الثلاثاء بقصر الحكومة بالقصبة، رئيسة البنك الاوروبي لإعادة الاعمار والتنمية اوديل رينو باسو بحضور وزيرة المالية سهام البوغديري نمصية، ووزيرة الاقتصاد والتخطيط  فريال الورغي السبعي.\\n            ', 'time': 'منذ'}\n",
            "2024-02-20 19:37:43 [scrapy.core.scraper] DEBUG: Scraped from <200 https://diwanfm.net/news>\n",
            "{'title': 'توزر: تركيز محطات لإنتاج الكهرباء من الطاقة الشمسية بأكثر من 50 مسجدا', 'categorie': '\\n                        جهوية\\n                    ', 'description': '\\n                تولت الإدارة الجهوية للوكالة الوطنية للتحكم في الطاقة بتوزر تركيز محطات فولطاضوئية لانتاج الكهرباء من الطاقة الشمسية بأكثر من 50 مسجدا من جملة 150 في اطار البرنامج  الوطني للتحكم في الطاقة بالمساجد ، وفق ما أفاد به المدير الجهوي للوكالة عماد التريكي في تصريح لديوان أف أم .\\n            ', 'time': 'منذ ساعة'}\n",
            "2024-02-20 19:37:43 [scrapy.core.scraper] DEBUG: Scraped from <200 https://diwanfm.net/news>\n",
            "{'title': 'كمال دقيش: سيتم انشاء الوكالة الوطنية لصيانة المنشئات الرياضية', 'categorie': '\\n                        رياضة\\n                    ', 'description': '\\n                أكد وزير الشباب والرياضة كمال دقيش خلال زيارته إلى ولاية قابس اليوم الثلاثاء ان كل المنشئات الرياضية في تونس تعاني من مشاكل الصيانة وان البلدية أصبحت غير قادرة على القيام بالعملية في ظل شح الموارد\\n            ', 'time': 'منذ ساعة'}\n",
            "2024-02-20 19:37:43 [scrapy.core.scraper] DEBUG: Scraped from <200 https://diwanfm.net/news>\n",
            "{'title': 'قائمة وسام اللطيف تنسحب من إنتخابات جامعة كرة القدم', 'categorie': '\\n                        رياضة\\n                    ', 'description': '\\n                أعلن المترشح لانتخابات الجامعة التونسية لكرة القدم وسام اللطيف على صفحته الرسمية على \"فايسبوك\" انسحاب قائمته من السباق الانتخابي\\n            ', 'time': 'منذ ساعتين'}\n",
            "2024-02-20 19:37:43 [scrapy.core.scraper] DEBUG: Scraped from <200 https://diwanfm.net/news>\n",
            "{'title': 'نزاع النتائج الأولية للانتخابات المحلية.. هيئة الانتخابات تطعن أمام المحكمة الإدارية في حكم ابتدائي', 'categorie': '\\n                        وطنية\\n                    ', 'description': '\\n                أعلنت المحكمة الإداريّة أنّها تلقّت إلى غاية اليوم الثّلاثاء (على السّاعة الخامسة والنّصف مساء) طعنا وحيدا (01) مرفوعا ضدّ الحكم الابتدائي الصّادر عن الدّائرة الاستئنافيّة في سياق الطّور الأوّل من نزاع النّتائج الأوليّة لانتخابات المجالس المحليّة لسنة 2023 في دورتها الثّانية، وقد قُدّم الطّعن المذكور من الهيئة العليا المستقلّة للانتخابات ويتعلّق بالدّائرة الانتخابيّة المحليّة منزل شاكر-صفاقس.\\n            ', 'time': 'منذ ساعتين'}\n",
            "2024-02-20 19:37:43 [scrapy.core.scraper] DEBUG: Scraped from <200 https://diwanfm.net/news>\n",
            "{'title': \"وزير الفلاحة : ''ما عندناش حكومة فاشلة، عندنا حكومة قاعدة تخدم وتنجز وبش نعملو على رواحنا''\", 'categorie': '\\n                        وطنية\\n                    ', 'description': \"\\n                قال وزير الفلاحة و الموارد المائية و الصيد البحري عبد المنعم بلعاتي إن الحكومة ليست فاشلة بل هي بصدد العمل والإنجاز قائلا  ''ما عندناش حكومة فاشلة ... عندنا حكومة قاعدة تخدم وتنجز''\\n            \", 'time': 'منذ ساعتين'}\n",
            "2024-02-20 19:37:43 [scrapy.core.scraper] DEBUG: Scraped from <200 https://diwanfm.net/news>\n",
            "{'title': 'بين قابس وقبلي: حادث اصطدام \"لواج\" وشاحنة يخلّف ثمانية قتلى', 'categorie': '\\n                        جهوية\\n                    ', 'description': '\\n                جدّ، منذ قليل، حادث مرور  بالطريق الوطنية عدد 16 كم 74 الرابطة بين ولايتي قابس وقبلي أدى إلى وفاة ثمانية أشخاص ونقل 4 مصابين إلى المستشفى الجهوي بقبلي، حسب ما أفاد به مصدر من الحماية المدنية لمراسل ديوان أف ام بالجهة\\n            ', 'time': 'منذ ساعتين'}\n",
            "2024-02-20 19:37:43 [scrapy.core.scraper] DEBUG: Scraped from <200 https://diwanfm.net/news>\n",
            "{'title': 'إنهاء مهام روضة العبيدي على رأس هيئة مكافحة الاتجار بالأشخاص', 'categorie': '\\n                        وطنية\\n                    ', 'description': '\\n                صدر بالعدد الأخير من الرائد الرسمي للجمهورية التونسية أمر عدد 127 لسنة 2024 مؤرخ في 19 فيفري 2024 يقضي بإنهاء مهام روضة العبيدي، القاضي من الرتبة الثالثة، على رأس الهيئة الوطنية لمكافحة الاتجار بالأشخاص\\n            ', 'time': 'منذ ساعتين'}\n",
            "2024-02-20 19:37:43 [scrapy.core.scraper] DEBUG: Scraped from <200 https://diwanfm.net/news>\n",
            "{'title': 'الكاف: ظاهرة التيبّس تصيب أشجار الصنوبر الحلبي', 'categorie': '\\n                        جهوية\\n                    ', 'description': '\\n                تعاني أشجار الصنوبر في عدد من غابات جهة الكاف من ظاهرة التيبّس نتيجة وجود حشرة تعرف بخنفساء القلف والتي تتغذي من الجزء المغذي للشجرة الموجود بين اللحاء والخشب ممّا يؤدي إلى تيبس الشجرة\\n            ', 'time': 'منذ'}\n",
            "2024-02-20 19:37:43 [scrapy.core.scraper] DEBUG: Scraped from <200 https://diwanfm.net/news>\n",
            "{'title': 'المزيو يودع شكاية هيئة المحامين لدى مكتب الادعاء العام بالمحكمة الجنائية الدولية ضد الاحتلال', 'categorie': '\\n                        وطنية\\n                    ', 'description': '\\n                أودع عميد الهيئة الوطنية للمحامين حاتم المزيو، اليوم الثلاثاء، شكاية الهيئة لدى مكتب الادعاء العام بالمحكمة الجنائيّة الدولية بلاهاي ضد جرائم الاحتلال\\n            ', 'time': 'منذ'}\n",
            "2024-02-20 19:37:43 [scrapy.core.scraper] DEBUG: Scraped from <200 https://diwanfm.net/news>\n",
            "{'title': None, 'categorie': None, 'description': None, 'time': None}\n",
            "2024-02-20 19:37:43 [scrapy.core.engine] INFO: Closing spider (finished)\n",
            "2024-02-20 19:37:43 [scrapy.extensions.feedexport] INFO: Stored json feed (24 items) in: data151.json\n",
            "2024-02-20 19:37:43 [scrapy.statscollectors] INFO: Dumping Scrapy stats:\n",
            "{'downloader/request_bytes': 438,\n",
            " 'downloader/request_count': 2,\n",
            " 'downloader/request_method_count/GET': 2,\n",
            " 'downloader/response_bytes': 12313,\n",
            " 'downloader/response_count': 2,\n",
            " 'downloader/response_status_count/200': 2,\n",
            " 'elapsed_time_seconds': 0.963659,\n",
            " 'feedexport/success_count/FileFeedStorage': 1,\n",
            " 'finish_reason': 'finished',\n",
            " 'finish_time': datetime.datetime(2024, 2, 20, 19, 37, 43, 15334, tzinfo=datetime.timezone.utc),\n",
            " 'httpcompression/response_bytes': 72127,\n",
            " 'httpcompression/response_count': 2,\n",
            " 'item_scraped_count': 24,\n",
            " 'log_count/DEBUG': 29,\n",
            " 'log_count/INFO': 11,\n",
            " 'memusage/max': 113074176,\n",
            " 'memusage/startup': 113074176,\n",
            " 'response_received_count': 2,\n",
            " 'robotstxt/request_count': 1,\n",
            " 'robotstxt/response_count': 1,\n",
            " 'robotstxt/response_status_count/200': 1,\n",
            " 'scheduler/dequeued': 1,\n",
            " 'scheduler/dequeued/memory': 1,\n",
            " 'scheduler/enqueued': 1,\n",
            " 'scheduler/enqueued/memory': 1,\n",
            " 'start_time': datetime.datetime(2024, 2, 20, 19, 37, 42, 51675, tzinfo=datetime.timezone.utc)}\n",
            "2024-02-20 19:37:43 [scrapy.core.engine] INFO: Spider closed (finished)\n"
          ]
        }
      ]
    },
    {
      "cell_type": "code",
      "source": [
        "import json\n",
        "\n",
        "with open('data151.json','r') as file:\n",
        "  data151=json.load(file)\n",
        "\n",
        "print(len(data151))"
      ],
      "metadata": {
        "colab": {
          "base_uri": "https://localhost:8080/"
        },
        "id": "2u13v31cAuxh",
        "outputId": "0c45fc1e-2f0e-4468-c2ec-947197cfdbc2"
      },
      "execution_count": null,
      "outputs": [
        {
          "output_type": "stream",
          "name": "stdout",
          "text": [
            "24\n"
          ]
        }
      ]
    },
    {
      "cell_type": "code",
      "source": [
        "for i in range (24):\n",
        "  new=data151[i]\n",
        "  print (\"news \",i)\n",
        "  print(f\"title:{new['title']}\")\n",
        "  print(f\"Description:{new['description']}\")\n",
        "  print(f\"categorie:{new['categorie']}\")\n",
        "  print(f\"time:{new['time']}\")\n",
        "  print (\"*****************************************************\")"
      ],
      "metadata": {
        "colab": {
          "base_uri": "https://localhost:8080/"
        },
        "id": "tzr_NCvcBxSB",
        "outputId": "9a59c4b6-4bf7-4567-b72e-7a7c4cc9639b"
      },
      "execution_count": null,
      "outputs": [
        {
          "output_type": "stream",
          "name": "stdout",
          "text": [
            "news  0\n",
            "title:None\n",
            "Description:None\n",
            "categorie:None\n",
            "time:None\n",
            "*****************************************************\n",
            "news  1\n",
            "title:None\n",
            "Description:None\n",
            "categorie:None\n",
            "time:None\n",
            "*****************************************************\n",
            "news  2\n",
            "title:None\n",
            "Description:None\n",
            "categorie:None\n",
            "time:None\n",
            "*****************************************************\n",
            "news  3\n",
            "title:None\n",
            "Description:None\n",
            "categorie:None\n",
            "time:None\n",
            "*****************************************************\n",
            "news  4\n",
            "title:None\n",
            "Description:None\n",
            "categorie:None\n",
            "time:None\n",
            "*****************************************************\n",
            "news  5\n",
            "title:None\n",
            "Description:None\n",
            "categorie:None\n",
            "time:None\n",
            "*****************************************************\n",
            "news  6\n",
            "title:None\n",
            "Description:None\n",
            "categorie:None\n",
            "time:None\n",
            "*****************************************************\n",
            "news  7\n",
            "title:None\n",
            "Description:None\n",
            "categorie:None\n",
            "time:None\n",
            "*****************************************************\n",
            "news  8\n",
            "title:None\n",
            "Description:None\n",
            "categorie:None\n",
            "time:None\n",
            "*****************************************************\n",
            "news  9\n",
            "title:None\n",
            "Description:None\n",
            "categorie:None\n",
            "time:None\n",
            "*****************************************************\n",
            "news  10\n",
            "title:None\n",
            "Description:None\n",
            "categorie:None\n",
            "time:None\n",
            "*****************************************************\n",
            "news  11\n",
            "title:رئيسة البنك الاوروبي لإعادة الاعمار والتنمية : أولويتنا في تونس دعم القطاع الخاص والانتقال الطاقي\n",
            "Description:\n",
            "                قالت رئيسة البنك الاوروبي لإعادة الاعمار والتنمية اوديل رينو باسو عقب لقائها رئيس الحكومة أحمد الحشاني اليوم الثلاثاء ان أولوية البنك في تونس  تتمثل في دعم القطاع الخاص و برنامج الانتقال الطاقي و تنمية الطاقات المتجددة .\n",
            "            \n",
            "categorie:\n",
            "                        اقتصاد\n",
            "                    \n",
            "time:منذ\n",
            "*****************************************************\n",
            "news  12\n",
            "title:انتخابات جامعة كرة القدم: قبول قائمة تقية ورفض قائمة اللطيف\n",
            "Description:\n",
            "                أصدرت اللجنة المستقلة للإنتخابات لجامعة التونسية لكرة القدم قرارها النهائي بخصوص القوائم المترشحة\n",
            "            \n",
            "categorie:\n",
            "                        رياضة\n",
            "                    \n",
            "time:منذ\n",
            "*****************************************************\n",
            "news  13\n",
            "title:تعزيز الشراكة الثنائية في لقاء رئيس الحكومة برئيسة البنك الاوروبي لاعادة الاعمار والتنمية\n",
            "Description:\n",
            "                استقبل رئيس الحكومة  أحمد الحشّاني صباح اليوم الثلاثاء بقصر الحكومة بالقصبة، رئيسة البنك الاوروبي لإعادة الاعمار والتنمية اوديل رينو باسو بحضور وزيرة المالية سهام البوغديري نمصية، ووزيرة الاقتصاد والتخطيط  فريال الورغي السبعي.\n",
            "            \n",
            "categorie:\n",
            "                        وطنية\n",
            "                    \n",
            "time:منذ\n",
            "*****************************************************\n",
            "news  14\n",
            "title:توزر: تركيز محطات لإنتاج الكهرباء من الطاقة الشمسية بأكثر من 50 مسجدا\n",
            "Description:\n",
            "                تولت الإدارة الجهوية للوكالة الوطنية للتحكم في الطاقة بتوزر تركيز محطات فولطاضوئية لانتاج الكهرباء من الطاقة الشمسية بأكثر من 50 مسجدا من جملة 150 في اطار البرنامج  الوطني للتحكم في الطاقة بالمساجد ، وفق ما أفاد به المدير الجهوي للوكالة عماد التريكي في تصريح لديوان أف أم .\n",
            "            \n",
            "categorie:\n",
            "                        جهوية\n",
            "                    \n",
            "time:منذ ساعة\n",
            "*****************************************************\n",
            "news  15\n",
            "title:كمال دقيش: سيتم انشاء الوكالة الوطنية لصيانة المنشئات الرياضية\n",
            "Description:\n",
            "                أكد وزير الشباب والرياضة كمال دقيش خلال زيارته إلى ولاية قابس اليوم الثلاثاء ان كل المنشئات الرياضية في تونس تعاني من مشاكل الصيانة وان البلدية أصبحت غير قادرة على القيام بالعملية في ظل شح الموارد\n",
            "            \n",
            "categorie:\n",
            "                        رياضة\n",
            "                    \n",
            "time:منذ ساعة\n",
            "*****************************************************\n",
            "news  16\n",
            "title:قائمة وسام اللطيف تنسحب من إنتخابات جامعة كرة القدم\n",
            "Description:\n",
            "                أعلن المترشح لانتخابات الجامعة التونسية لكرة القدم وسام اللطيف على صفحته الرسمية على \"فايسبوك\" انسحاب قائمته من السباق الانتخابي\n",
            "            \n",
            "categorie:\n",
            "                        رياضة\n",
            "                    \n",
            "time:منذ ساعتين\n",
            "*****************************************************\n",
            "news  17\n",
            "title:نزاع النتائج الأولية للانتخابات المحلية.. هيئة الانتخابات تطعن أمام المحكمة الإدارية في حكم ابتدائي\n",
            "Description:\n",
            "                أعلنت المحكمة الإداريّة أنّها تلقّت إلى غاية اليوم الثّلاثاء (على السّاعة الخامسة والنّصف مساء) طعنا وحيدا (01) مرفوعا ضدّ الحكم الابتدائي الصّادر عن الدّائرة الاستئنافيّة في سياق الطّور الأوّل من نزاع النّتائج الأوليّة لانتخابات المجالس المحليّة لسنة 2023 في دورتها الثّانية، وقد قُدّم الطّعن المذكور من الهيئة العليا المستقلّة للانتخابات ويتعلّق بالدّائرة الانتخابيّة المحليّة منزل شاكر-صفاقس.\n",
            "            \n",
            "categorie:\n",
            "                        وطنية\n",
            "                    \n",
            "time:منذ ساعتين\n",
            "*****************************************************\n",
            "news  18\n",
            "title:وزير الفلاحة : ''ما عندناش حكومة فاشلة، عندنا حكومة قاعدة تخدم وتنجز وبش نعملو على رواحنا''\n",
            "Description:\n",
            "                قال وزير الفلاحة و الموارد المائية و الصيد البحري عبد المنعم بلعاتي إن الحكومة ليست فاشلة بل هي بصدد العمل والإنجاز قائلا  ''ما عندناش حكومة فاشلة ... عندنا حكومة قاعدة تخدم وتنجز''\n",
            "            \n",
            "categorie:\n",
            "                        وطنية\n",
            "                    \n",
            "time:منذ ساعتين\n",
            "*****************************************************\n",
            "news  19\n",
            "title:بين قابس وقبلي: حادث اصطدام \"لواج\" وشاحنة يخلّف ثمانية قتلى\n",
            "Description:\n",
            "                جدّ، منذ قليل، حادث مرور  بالطريق الوطنية عدد 16 كم 74 الرابطة بين ولايتي قابس وقبلي أدى إلى وفاة ثمانية أشخاص ونقل 4 مصابين إلى المستشفى الجهوي بقبلي، حسب ما أفاد به مصدر من الحماية المدنية لمراسل ديوان أف ام بالجهة\n",
            "            \n",
            "categorie:\n",
            "                        جهوية\n",
            "                    \n",
            "time:منذ ساعتين\n",
            "*****************************************************\n",
            "news  20\n",
            "title:إنهاء مهام روضة العبيدي على رأس هيئة مكافحة الاتجار بالأشخاص\n",
            "Description:\n",
            "                صدر بالعدد الأخير من الرائد الرسمي للجمهورية التونسية أمر عدد 127 لسنة 2024 مؤرخ في 19 فيفري 2024 يقضي بإنهاء مهام روضة العبيدي، القاضي من الرتبة الثالثة، على رأس الهيئة الوطنية لمكافحة الاتجار بالأشخاص\n",
            "            \n",
            "categorie:\n",
            "                        وطنية\n",
            "                    \n",
            "time:منذ ساعتين\n",
            "*****************************************************\n",
            "news  21\n",
            "title:الكاف: ظاهرة التيبّس تصيب أشجار الصنوبر الحلبي\n",
            "Description:\n",
            "                تعاني أشجار الصنوبر في عدد من غابات جهة الكاف من ظاهرة التيبّس نتيجة وجود حشرة تعرف بخنفساء القلف والتي تتغذي من الجزء المغذي للشجرة الموجود بين اللحاء والخشب ممّا يؤدي إلى تيبس الشجرة\n",
            "            \n",
            "categorie:\n",
            "                        جهوية\n",
            "                    \n",
            "time:منذ\n",
            "*****************************************************\n",
            "news  22\n",
            "title:المزيو يودع شكاية هيئة المحامين لدى مكتب الادعاء العام بالمحكمة الجنائية الدولية ضد الاحتلال\n",
            "Description:\n",
            "                أودع عميد الهيئة الوطنية للمحامين حاتم المزيو، اليوم الثلاثاء، شكاية الهيئة لدى مكتب الادعاء العام بالمحكمة الجنائيّة الدولية بلاهاي ضد جرائم الاحتلال\n",
            "            \n",
            "categorie:\n",
            "                        وطنية\n",
            "                    \n",
            "time:منذ\n",
            "*****************************************************\n",
            "news  23\n",
            "title:None\n",
            "Description:None\n",
            "categorie:None\n",
            "time:None\n",
            "*****************************************************\n"
          ]
        }
      ]
    }
  ]
}